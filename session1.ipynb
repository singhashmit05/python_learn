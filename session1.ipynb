{
  "nbformat": 4,
  "nbformat_minor": 0,
  "metadata": {
    "colab": {
      "provenance": [],
      "authorship_tag": "ABX9TyNbxblH713t3isb7SAkP3YO",
      "include_colab_link": true
    },
    "kernelspec": {
      "name": "python3",
      "display_name": "Python 3"
    },
    "language_info": {
      "name": "python"
    }
  },
  "cells": [
    {
      "cell_type": "markdown",
      "metadata": {
        "id": "view-in-github",
        "colab_type": "text"
      },
      "source": [
        "<a href=\"https://colab.research.google.com/github/singhashmit05/python_learn/blob/main/session1.ipynb\" target=\"_parent\"><img src=\"https://colab.research.google.com/assets/colab-badge.svg\" alt=\"Open In Colab\"/></a>"
      ]
    },
    {
      "cell_type": "code",
      "execution_count": null,
      "metadata": {
        "colab": {
          "base_uri": "https://localhost:8080/"
        },
        "id": "a79DvbM9wmD0",
        "outputId": "b6a04e1a-3750-4aab-b432-76129114a4ea"
      },
      "outputs": [
        {
          "output_type": "stream",
          "name": "stdout",
          "text": [
            "hello\n",
            "hicsse 3\n"
          ]
        }
      ],
      "source": [
        "print(\"hello\")\n",
        "print(\"hicsse 3\")"
      ]
    },
    {
      "cell_type": "code",
      "source": [
        "int a =10\n",
        "print(a)"
      ],
      "metadata": {
        "colab": {
          "base_uri": "https://localhost:8080/",
          "height": 106
        },
        "id": "5Ls4SuILxG_E",
        "outputId": "e5e205ba-5fbd-4abe-c463-d8f8c82f35da"
      },
      "execution_count": null,
      "outputs": [
        {
          "output_type": "error",
          "ename": "SyntaxError",
          "evalue": "invalid syntax (ipython-input-8-2145453920.py, line 1)",
          "traceback": [
            "\u001b[0;36m  File \u001b[0;32m\"/tmp/ipython-input-8-2145453920.py\"\u001b[0;36m, line \u001b[0;32m1\u001b[0m\n\u001b[0;31m    int a =10\u001b[0m\n\u001b[0m        ^\u001b[0m\n\u001b[0;31mSyntaxError\u001b[0m\u001b[0;31m:\u001b[0m invalid syntax\n"
          ]
        }
      ]
    },
    {
      "cell_type": "code",
      "source": [
        "a = 10"
      ],
      "metadata": {
        "id": "ElXpZ5vk0kFJ"
      },
      "execution_count": null,
      "outputs": []
    },
    {
      "cell_type": "code",
      "source": [
        "print(a)"
      ],
      "metadata": {
        "colab": {
          "base_uri": "https://localhost:8080/"
        },
        "id": "JB1pKueY054J",
        "outputId": "8a15efc2-66d0-48de-f8c2-146738e9371f"
      },
      "execution_count": null,
      "outputs": [
        {
          "output_type": "stream",
          "name": "stdout",
          "text": [
            "10\n"
          ]
        }
      ]
    },
    {
      "cell_type": "code",
      "source": [],
      "metadata": {
        "id": "qsPdou-71jab"
      },
      "execution_count": null,
      "outputs": []
    },
    {
      "cell_type": "code",
      "source": [
        "mob_price=10000\n",
        "print('value of mobile is:',mob_price)\n",
        "type(mob_price)"
      ],
      "metadata": {
        "colab": {
          "base_uri": "https://localhost:8080/"
        },
        "id": "e2EzWoBl1An9",
        "outputId": "47fe5773-7d63-45f7-82b7-8f8d9f69251c"
      },
      "execution_count": null,
      "outputs": [
        {
          "output_type": "stream",
          "name": "stdout",
          "text": [
            "value of mobile is: 10000\n"
          ]
        },
        {
          "output_type": "execute_result",
          "data": {
            "text/plain": [
              "int"
            ]
          },
          "metadata": {},
          "execution_count": 7
        }
      ]
    },
    {
      "cell_type": "code",
      "source": [
        "MOBILE_NAME='IPHONE'\n",
        "print(MOBILE_NAME)"
      ],
      "metadata": {
        "colab": {
          "base_uri": "https://localhost:8080/"
        },
        "id": "wqwwgFF_KPiL",
        "outputId": "735a771a-d78f-460f-a040-321a89b3a79a"
      },
      "execution_count": null,
      "outputs": [
        {
          "output_type": "stream",
          "name": "stdout",
          "text": [
            "IPHONE\n"
          ]
        }
      ]
    },
    {
      "cell_type": "code",
      "source": [
        "type(MOBILE_NAME)\n"
      ],
      "metadata": {
        "colab": {
          "base_uri": "https://localhost:8080/"
        },
        "id": "6bbANtdQKxWC",
        "outputId": "30c36769-50d1-4a8b-832d-12a8952de5d2"
      },
      "execution_count": null,
      "outputs": [
        {
          "output_type": "execute_result",
          "data": {
            "text/plain": [
              "str"
            ]
          },
          "metadata": {},
          "execution_count": 5
        }
      ]
    },
    {
      "cell_type": "code",
      "source": [
        "name=input('enter your name: ')\n",
        "print(name)\n",
        "type(name)"
      ],
      "metadata": {
        "colab": {
          "base_uri": "https://localhost:8080/"
        },
        "id": "CJLl53o3WL1D",
        "outputId": "22dcd450-27a8-4772-d33f-22b012dab7ea"
      },
      "execution_count": null,
      "outputs": [
        {
          "output_type": "stream",
          "name": "stdout",
          "text": [
            "enter your name: ashmit\n",
            "ashmit\n"
          ]
        },
        {
          "output_type": "execute_result",
          "data": {
            "text/plain": [
              "str"
            ]
          },
          "metadata": {},
          "execution_count": 12
        }
      ]
    },
    {
      "cell_type": "code",
      "source": [
        "num1=int(input('enter firsr num  :'))\n",
        "num2=int(input('enter second num :'))\n",
        "num3=num1+num2\n",
        "print(num3)"
      ],
      "metadata": {
        "colab": {
          "base_uri": "https://localhost:8080/"
        },
        "id": "uOHEnly_WeiE",
        "outputId": "f716c6f4-4b75-4a48-9888-e6d57c32c1de"
      },
      "execution_count": null,
      "outputs": [
        {
          "output_type": "stream",
          "name": "stdout",
          "text": [
            "enter firsr num  :3\n",
            "enter second num :3\n",
            "6\n"
          ]
        }
      ]
    },
    {
      "cell_type": "code",
      "source": [
        "#conditional statements- if, elif , else\n",
        "#syntax- if condition\n",
        "num1=6\n",
        "num2=3\n",
        "if num1>num2:\n",
        "    print('num1 is greater than num2')\n",
        "elif num1==num2:\n",
        "    print('num1 is equal to num2')\n",
        "else:\n",
        "    print('num1 is less than num2')\n"
      ],
      "metadata": {
        "colab": {
          "base_uri": "https://localhost:8080/"
        },
        "id": "KaosIAN-W9MC",
        "outputId": "1a63d375-5910-4108-bb77-6dea50bbfb80"
      },
      "execution_count": null,
      "outputs": [
        {
          "output_type": "stream",
          "name": "stdout",
          "text": [
            "num1 is greater than num2\n"
          ]
        }
      ]
    },
    {
      "cell_type": "code",
      "source": [
        "num1=int(input('enter first number :'))\n",
        "num2=int(input('enter second number :'))\n",
        "if num1>num2:\n",
        "    print('num1 is greater than num2')\n",
        "elif num1==num2:\n",
        "    print('num1 is equal to num2')\n",
        "else:\n",
        "     print('num1 is less than num2')"
      ],
      "metadata": {
        "colab": {
          "base_uri": "https://localhost:8080/"
        },
        "id": "gtgrRjP8b5wS",
        "outputId": "78248def-ca40-4eb6-9c04-7650ccf28c26"
      },
      "execution_count": null,
      "outputs": [
        {
          "output_type": "stream",
          "name": "stdout",
          "text": [
            "enter first number :12\n",
            "enter second number :34\n",
            "num1 is less than num2\n"
          ]
        }
      ]
    },
    {
      "cell_type": "code",
      "source": [
        "#pythonvariables\n",
        "age=5\n",
        "name= 'ashmit'\n",
        "print('age od the boy is:',age)\n"
      ],
      "metadata": {
        "id": "aOQ7yRwccfok",
        "colab": {
          "base_uri": "https://localhost:8080/"
        },
        "outputId": "e265215c-3f2e-4ebc-b758-b220c4d561b5"
      },
      "execution_count": null,
      "outputs": [
        {
          "output_type": "stream",
          "name": "stdout",
          "text": [
            "age od the boy is: 5\n",
            "name of the boy is: ashmit\n"
          ]
        }
      ]
    },
    {
      "cell_type": "code",
      "source": [
        "\n",
        "type(name)\n"
      ],
      "metadata": {
        "colab": {
          "base_uri": "https://localhost:8080/"
        },
        "id": "dZ047vghx7il",
        "outputId": "168b36d6-6280-4e8e-e09b-521cf1101eee"
      },
      "execution_count": null,
      "outputs": [
        {
          "output_type": "execute_result",
          "data": {
            "text/plain": [
              "str"
            ]
          },
          "metadata": {},
          "execution_count": 16
        }
      ]
    },
    {
      "cell_type": "code",
      "source": [
        "#input()\n",
        "name=input('enter your name:')\n",
        "print('my name is',name)"
      ],
      "metadata": {
        "colab": {
          "base_uri": "https://localhost:8080/"
        },
        "id": "BhMEnWpbydII",
        "outputId": "77451527-d45b-466c-acb9-672440a3dbbc"
      },
      "execution_count": null,
      "outputs": [
        {
          "output_type": "stream",
          "name": "stdout",
          "text": [
            "enter your name:\n",
            "my name is \n"
          ]
        }
      ]
    },
    {
      "cell_type": "code",
      "source": [
        "num1=2(input('enter first number:'))\n",
        "num2=(input('enter second number:'))\n",
        "num3=num1+num2\n",
        "print(num3)"
      ],
      "metadata": {
        "colab": {
          "base_uri": "https://localhost:8080/"
        },
        "id": "zMdmkLvjzkuh",
        "outputId": "98b5225d-dd1f-4fbc-8497-2aeed65085f6"
      },
      "execution_count": null,
      "outputs": [
        {
          "output_type": "stream",
          "name": "stdout",
          "text": [
            "enter first number:23\n",
            "enter second number:3\n",
            "233\n"
          ]
        }
      ]
    },
    {
      "cell_type": "code",
      "source": [
        "num1=6\n",
        "num2=6\n",
        "if num1>num2:\n",
        "  print(\"num1 is greater\")\n",
        "elif num1==num2:\n",
        "  print(\"equal\")\n",
        "else:\n",
        "  print(\"num2 is greater\")"
      ],
      "metadata": {
        "colab": {
          "base_uri": "https://localhost:8080/"
        },
        "id": "26lRkB7-zzZ8",
        "outputId": "2f8e861c-3abe-4a9b-d625-3687b078c94b"
      },
      "execution_count": null,
      "outputs": [
        {
          "output_type": "stream",
          "name": "stdout",
          "text": [
            "equal\n"
          ]
        }
      ]
    },
    {
      "cell_type": "code",
      "source": [
        "#loops\n",
        "msg=1\n",
        "while(msg<6):\n",
        "  print('hello')\n",
        "  msg=msg+1"
      ],
      "metadata": {
        "colab": {
          "base_uri": "https://localhost:8080/"
        },
        "id": "TmQ7JUbpMnBd",
        "outputId": "3f44ef0b-b954-4d6a-cedc-c43255b2d289"
      },
      "execution_count": null,
      "outputs": [
        {
          "output_type": "stream",
          "name": "stdout",
          "text": [
            "hello\n",
            "hello\n",
            "hello\n",
            "hello\n",
            "hello\n"
          ]
        }
      ]
    },
    {
      "cell_type": "code",
      "source": [
        "from typing_extensions import TYPE_CHECKING\n",
        "printf(ashmit chutiya);\n",
        "static void main\n",
        "#include stdio.h\n",
        "#madarchid\n",
        "prinln(lodu);\n",
        "elseif\n",
        "TYPE_CHECKINGwhen\n",
        "now\n",
        "where\n",
        "ThreadPoolExecutorhere\n",
        "how\n"
      ],
      "metadata": {
        "colab": {
          "base_uri": "https://localhost:8080/",
          "height": 106
        },
        "id": "9TSyNT56RQd4",
        "outputId": "6df374ef-3355-4e1f-97f8-500f7ed2b50c"
      },
      "execution_count": null,
      "outputs": [
        {
          "output_type": "error",
          "ename": "SyntaxError",
          "evalue": "invalid syntax. Perhaps you forgot a comma? (ipython-input-6-1924523279.py, line 1)",
          "traceback": [
            "\u001b[0;36m  File \u001b[0;32m\"/tmp/ipython-input-6-1924523279.py\"\u001b[0;36m, line \u001b[0;32m1\u001b[0m\n\u001b[0;31m    printf(ashmit chutiya);\u001b[0m\n\u001b[0m           ^\u001b[0m\n\u001b[0;31mSyntaxError\u001b[0m\u001b[0;31m:\u001b[0m invalid syntax. Perhaps you forgot a comma?\n"
          ]
        }
      ]
    }
  ]
}